{
  "nbformat": 4,
  "nbformat_minor": 0,
  "metadata": {
    "colab": {
      "name": "Car_Evaluation_Classification.ipynb",
      "provenance": [],
      "collapsed_sections": []
    },
    "kernelspec": {
      "name": "python3",
      "display_name": "Python 3"
    },
    "accelerator": "GPU"
  },
  "cells": [
    {
      "cell_type": "code",
      "metadata": {
        "id": "Hkc8U_sY4F3n"
      },
      "source": [
        "# Use seaborn for pairplot\r\n",
        "!pip install -q seaborn\r\n",
        "import pandas as pd\r\n",
        "import numpy as np\r\n",
        "import tensorflow as tf\r\n",
        "\r\n",
        "import matplotlib.pyplot as plt\r\n",
        "%matplotlib inline\r\n",
        "\r\n",
        "import seaborn as sns\r\n",
        "sns.set(style=\"darkgrid\")"
      ],
      "execution_count": 1,
      "outputs": []
    },
    {
      "cell_type": "markdown",
      "metadata": {
        "id": "2x6zPLN86P_a"
      },
      "source": [
        "https://archive.ics.uci.edu/ml/datasets/car+evaluation"
      ]
    },
    {
      "cell_type": "code",
      "metadata": {
        "id": "J-4XsEzd4ReL"
      },
      "source": [
        "url = 'https://archive.ics.uci.edu/ml/machine-learning-databases/car/car.data'\r\n",
        "column_names = ['price', 'maint', 'doors', 'persons', 'lug_capacity', 'safety','output']\r\n",
        "\r\n",
        "raw_dataset = pd.read_csv(url, names=column_names,header=None)"
      ],
      "execution_count": 2,
      "outputs": []
    },
    {
      "cell_type": "code",
      "metadata": {
        "colab": {
          "base_uri": "https://localhost:8080/",
          "height": 359
        },
        "id": "WMgLOZHd6UcM",
        "outputId": "a46c55bf-ab6b-44f3-9579-c3bd484d1160"
      },
      "source": [
        "dataset = raw_dataset.copy()\r\n",
        "dataset.head(10)"
      ],
      "execution_count": 3,
      "outputs": [
        {
          "output_type": "execute_result",
          "data": {
            "text/html": [
              "<div>\n",
              "<style scoped>\n",
              "    .dataframe tbody tr th:only-of-type {\n",
              "        vertical-align: middle;\n",
              "    }\n",
              "\n",
              "    .dataframe tbody tr th {\n",
              "        vertical-align: top;\n",
              "    }\n",
              "\n",
              "    .dataframe thead th {\n",
              "        text-align: right;\n",
              "    }\n",
              "</style>\n",
              "<table border=\"1\" class=\"dataframe\">\n",
              "  <thead>\n",
              "    <tr style=\"text-align: right;\">\n",
              "      <th></th>\n",
              "      <th>price</th>\n",
              "      <th>maint</th>\n",
              "      <th>doors</th>\n",
              "      <th>persons</th>\n",
              "      <th>lug_capacity</th>\n",
              "      <th>safety</th>\n",
              "      <th>output</th>\n",
              "    </tr>\n",
              "  </thead>\n",
              "  <tbody>\n",
              "    <tr>\n",
              "      <th>0</th>\n",
              "      <td>vhigh</td>\n",
              "      <td>vhigh</td>\n",
              "      <td>2</td>\n",
              "      <td>2</td>\n",
              "      <td>small</td>\n",
              "      <td>low</td>\n",
              "      <td>unacc</td>\n",
              "    </tr>\n",
              "    <tr>\n",
              "      <th>1</th>\n",
              "      <td>vhigh</td>\n",
              "      <td>vhigh</td>\n",
              "      <td>2</td>\n",
              "      <td>2</td>\n",
              "      <td>small</td>\n",
              "      <td>med</td>\n",
              "      <td>unacc</td>\n",
              "    </tr>\n",
              "    <tr>\n",
              "      <th>2</th>\n",
              "      <td>vhigh</td>\n",
              "      <td>vhigh</td>\n",
              "      <td>2</td>\n",
              "      <td>2</td>\n",
              "      <td>small</td>\n",
              "      <td>high</td>\n",
              "      <td>unacc</td>\n",
              "    </tr>\n",
              "    <tr>\n",
              "      <th>3</th>\n",
              "      <td>vhigh</td>\n",
              "      <td>vhigh</td>\n",
              "      <td>2</td>\n",
              "      <td>2</td>\n",
              "      <td>med</td>\n",
              "      <td>low</td>\n",
              "      <td>unacc</td>\n",
              "    </tr>\n",
              "    <tr>\n",
              "      <th>4</th>\n",
              "      <td>vhigh</td>\n",
              "      <td>vhigh</td>\n",
              "      <td>2</td>\n",
              "      <td>2</td>\n",
              "      <td>med</td>\n",
              "      <td>med</td>\n",
              "      <td>unacc</td>\n",
              "    </tr>\n",
              "    <tr>\n",
              "      <th>5</th>\n",
              "      <td>vhigh</td>\n",
              "      <td>vhigh</td>\n",
              "      <td>2</td>\n",
              "      <td>2</td>\n",
              "      <td>med</td>\n",
              "      <td>high</td>\n",
              "      <td>unacc</td>\n",
              "    </tr>\n",
              "    <tr>\n",
              "      <th>6</th>\n",
              "      <td>vhigh</td>\n",
              "      <td>vhigh</td>\n",
              "      <td>2</td>\n",
              "      <td>2</td>\n",
              "      <td>big</td>\n",
              "      <td>low</td>\n",
              "      <td>unacc</td>\n",
              "    </tr>\n",
              "    <tr>\n",
              "      <th>7</th>\n",
              "      <td>vhigh</td>\n",
              "      <td>vhigh</td>\n",
              "      <td>2</td>\n",
              "      <td>2</td>\n",
              "      <td>big</td>\n",
              "      <td>med</td>\n",
              "      <td>unacc</td>\n",
              "    </tr>\n",
              "    <tr>\n",
              "      <th>8</th>\n",
              "      <td>vhigh</td>\n",
              "      <td>vhigh</td>\n",
              "      <td>2</td>\n",
              "      <td>2</td>\n",
              "      <td>big</td>\n",
              "      <td>high</td>\n",
              "      <td>unacc</td>\n",
              "    </tr>\n",
              "    <tr>\n",
              "      <th>9</th>\n",
              "      <td>vhigh</td>\n",
              "      <td>vhigh</td>\n",
              "      <td>2</td>\n",
              "      <td>4</td>\n",
              "      <td>small</td>\n",
              "      <td>low</td>\n",
              "      <td>unacc</td>\n",
              "    </tr>\n",
              "  </tbody>\n",
              "</table>\n",
              "</div>"
            ],
            "text/plain": [
              "   price  maint doors persons lug_capacity safety output\n",
              "0  vhigh  vhigh     2       2        small    low  unacc\n",
              "1  vhigh  vhigh     2       2        small    med  unacc\n",
              "2  vhigh  vhigh     2       2        small   high  unacc\n",
              "3  vhigh  vhigh     2       2          med    low  unacc\n",
              "4  vhigh  vhigh     2       2          med    med  unacc\n",
              "5  vhigh  vhigh     2       2          med   high  unacc\n",
              "6  vhigh  vhigh     2       2          big    low  unacc\n",
              "7  vhigh  vhigh     2       2          big    med  unacc\n",
              "8  vhigh  vhigh     2       2          big   high  unacc\n",
              "9  vhigh  vhigh     2       4        small    low  unacc"
            ]
          },
          "metadata": {
            "tags": []
          },
          "execution_count": 3
        }
      ]
    },
    {
      "cell_type": "markdown",
      "metadata": {
        "id": "gzIe5pOp7T5U"
      },
      "source": [
        "Check if there are any empty values in our dataset."
      ]
    },
    {
      "cell_type": "code",
      "metadata": {
        "colab": {
          "base_uri": "https://localhost:8080/"
        },
        "id": "JQNFVcF068TQ",
        "outputId": "b9be14b0-aba0-4658-8bbf-be354fc14641"
      },
      "source": [
        "dataset.isna().sum()"
      ],
      "execution_count": 4,
      "outputs": [
        {
          "output_type": "execute_result",
          "data": {
            "text/plain": [
              "price           0\n",
              "maint           0\n",
              "doors           0\n",
              "persons         0\n",
              "lug_capacity    0\n",
              "safety          0\n",
              "output          0\n",
              "dtype: int64"
            ]
          },
          "metadata": {
            "tags": []
          },
          "execution_count": 4
        }
      ]
    },
    {
      "cell_type": "code",
      "metadata": {
        "colab": {
          "base_uri": "https://localhost:8080/",
          "height": 173
        },
        "id": "sjUA-NJWGjBq",
        "outputId": "b6b6b927-8285-45b4-be62-c743b25ff289"
      },
      "source": [
        "dataset.describe()"
      ],
      "execution_count": 5,
      "outputs": [
        {
          "output_type": "execute_result",
          "data": {
            "text/html": [
              "<div>\n",
              "<style scoped>\n",
              "    .dataframe tbody tr th:only-of-type {\n",
              "        vertical-align: middle;\n",
              "    }\n",
              "\n",
              "    .dataframe tbody tr th {\n",
              "        vertical-align: top;\n",
              "    }\n",
              "\n",
              "    .dataframe thead th {\n",
              "        text-align: right;\n",
              "    }\n",
              "</style>\n",
              "<table border=\"1\" class=\"dataframe\">\n",
              "  <thead>\n",
              "    <tr style=\"text-align: right;\">\n",
              "      <th></th>\n",
              "      <th>price</th>\n",
              "      <th>maint</th>\n",
              "      <th>doors</th>\n",
              "      <th>persons</th>\n",
              "      <th>lug_capacity</th>\n",
              "      <th>safety</th>\n",
              "      <th>output</th>\n",
              "    </tr>\n",
              "  </thead>\n",
              "  <tbody>\n",
              "    <tr>\n",
              "      <th>count</th>\n",
              "      <td>1728</td>\n",
              "      <td>1728</td>\n",
              "      <td>1728</td>\n",
              "      <td>1728</td>\n",
              "      <td>1728</td>\n",
              "      <td>1728</td>\n",
              "      <td>1728</td>\n",
              "    </tr>\n",
              "    <tr>\n",
              "      <th>unique</th>\n",
              "      <td>4</td>\n",
              "      <td>4</td>\n",
              "      <td>4</td>\n",
              "      <td>3</td>\n",
              "      <td>3</td>\n",
              "      <td>3</td>\n",
              "      <td>4</td>\n",
              "    </tr>\n",
              "    <tr>\n",
              "      <th>top</th>\n",
              "      <td>vhigh</td>\n",
              "      <td>vhigh</td>\n",
              "      <td>4</td>\n",
              "      <td>4</td>\n",
              "      <td>small</td>\n",
              "      <td>med</td>\n",
              "      <td>unacc</td>\n",
              "    </tr>\n",
              "    <tr>\n",
              "      <th>freq</th>\n",
              "      <td>432</td>\n",
              "      <td>432</td>\n",
              "      <td>432</td>\n",
              "      <td>576</td>\n",
              "      <td>576</td>\n",
              "      <td>576</td>\n",
              "      <td>1210</td>\n",
              "    </tr>\n",
              "  </tbody>\n",
              "</table>\n",
              "</div>"
            ],
            "text/plain": [
              "        price  maint doors persons lug_capacity safety output\n",
              "count    1728   1728  1728    1728         1728   1728   1728\n",
              "unique      4      4     4       3            3      3      4\n",
              "top     vhigh  vhigh     4       4        small    med  unacc\n",
              "freq      432    432   432     576          576    576   1210"
            ]
          },
          "metadata": {
            "tags": []
          },
          "execution_count": 5
        }
      ]
    },
    {
      "cell_type": "markdown",
      "metadata": {
        "id": "p68KJQn6GqQr"
      },
      "source": [
        "Transform Categorical arguments into numerical arguments."
      ]
    },
    {
      "cell_type": "code",
      "metadata": {
        "id": "5lpkYASdGp3S"
      },
      "source": [
        "price = pd.get_dummies(dataset.price, prefix='price')\r\n",
        "maint = pd.get_dummies(dataset.maint, prefix='maint')\r\n",
        "\r\n",
        "doors = pd.get_dummies(dataset.doors, prefix='doors')\r\n",
        "persons = pd.get_dummies(dataset.persons, prefix='persons')\r\n",
        "\r\n",
        "lug_capacity = pd.get_dummies(dataset.lug_capacity, prefix='lug_capacity')\r\n",
        "safety = pd.get_dummies(dataset.safety, prefix='safety')\r\n",
        "\r\n",
        "labels = pd.get_dummies(dataset.output, prefix='condition')\r\n"
      ],
      "execution_count": 6,
      "outputs": []
    },
    {
      "cell_type": "code",
      "metadata": {
        "colab": {
          "base_uri": "https://localhost:8080/",
          "height": 359
        },
        "id": "NNSgc-WYG9bJ",
        "outputId": "9ec083b1-2796-49d9-9e05-ac9e68e6bea5"
      },
      "source": [
        "X = pd.concat([price, maint, doors, persons, lug_capacity, safety] , axis=1)\r\n",
        "labels.head(10)"
      ],
      "execution_count": 7,
      "outputs": [
        {
          "output_type": "execute_result",
          "data": {
            "text/html": [
              "<div>\n",
              "<style scoped>\n",
              "    .dataframe tbody tr th:only-of-type {\n",
              "        vertical-align: middle;\n",
              "    }\n",
              "\n",
              "    .dataframe tbody tr th {\n",
              "        vertical-align: top;\n",
              "    }\n",
              "\n",
              "    .dataframe thead th {\n",
              "        text-align: right;\n",
              "    }\n",
              "</style>\n",
              "<table border=\"1\" class=\"dataframe\">\n",
              "  <thead>\n",
              "    <tr style=\"text-align: right;\">\n",
              "      <th></th>\n",
              "      <th>condition_acc</th>\n",
              "      <th>condition_good</th>\n",
              "      <th>condition_unacc</th>\n",
              "      <th>condition_vgood</th>\n",
              "    </tr>\n",
              "  </thead>\n",
              "  <tbody>\n",
              "    <tr>\n",
              "      <th>0</th>\n",
              "      <td>0</td>\n",
              "      <td>0</td>\n",
              "      <td>1</td>\n",
              "      <td>0</td>\n",
              "    </tr>\n",
              "    <tr>\n",
              "      <th>1</th>\n",
              "      <td>0</td>\n",
              "      <td>0</td>\n",
              "      <td>1</td>\n",
              "      <td>0</td>\n",
              "    </tr>\n",
              "    <tr>\n",
              "      <th>2</th>\n",
              "      <td>0</td>\n",
              "      <td>0</td>\n",
              "      <td>1</td>\n",
              "      <td>0</td>\n",
              "    </tr>\n",
              "    <tr>\n",
              "      <th>3</th>\n",
              "      <td>0</td>\n",
              "      <td>0</td>\n",
              "      <td>1</td>\n",
              "      <td>0</td>\n",
              "    </tr>\n",
              "    <tr>\n",
              "      <th>4</th>\n",
              "      <td>0</td>\n",
              "      <td>0</td>\n",
              "      <td>1</td>\n",
              "      <td>0</td>\n",
              "    </tr>\n",
              "    <tr>\n",
              "      <th>5</th>\n",
              "      <td>0</td>\n",
              "      <td>0</td>\n",
              "      <td>1</td>\n",
              "      <td>0</td>\n",
              "    </tr>\n",
              "    <tr>\n",
              "      <th>6</th>\n",
              "      <td>0</td>\n",
              "      <td>0</td>\n",
              "      <td>1</td>\n",
              "      <td>0</td>\n",
              "    </tr>\n",
              "    <tr>\n",
              "      <th>7</th>\n",
              "      <td>0</td>\n",
              "      <td>0</td>\n",
              "      <td>1</td>\n",
              "      <td>0</td>\n",
              "    </tr>\n",
              "    <tr>\n",
              "      <th>8</th>\n",
              "      <td>0</td>\n",
              "      <td>0</td>\n",
              "      <td>1</td>\n",
              "      <td>0</td>\n",
              "    </tr>\n",
              "    <tr>\n",
              "      <th>9</th>\n",
              "      <td>0</td>\n",
              "      <td>0</td>\n",
              "      <td>1</td>\n",
              "      <td>0</td>\n",
              "    </tr>\n",
              "  </tbody>\n",
              "</table>\n",
              "</div>"
            ],
            "text/plain": [
              "   condition_acc  condition_good  condition_unacc  condition_vgood\n",
              "0              0               0                1                0\n",
              "1              0               0                1                0\n",
              "2              0               0                1                0\n",
              "3              0               0                1                0\n",
              "4              0               0                1                0\n",
              "5              0               0                1                0\n",
              "6              0               0                1                0\n",
              "7              0               0                1                0\n",
              "8              0               0                1                0\n",
              "9              0               0                1                0"
            ]
          },
          "metadata": {
            "tags": []
          },
          "execution_count": 7
        }
      ]
    },
    {
      "cell_type": "code",
      "metadata": {
        "id": "99erDPAgHCVu"
      },
      "source": [
        "y = labels.values"
      ],
      "execution_count": 8,
      "outputs": []
    },
    {
      "cell_type": "markdown",
      "metadata": {
        "id": "eoQnS3GgHLso"
      },
      "source": [
        "Split our set into training and testing set."
      ]
    },
    {
      "cell_type": "code",
      "metadata": {
        "id": "ppC5MLOxHOFs"
      },
      "source": [
        "from sklearn.model_selection import train_test_split\r\n",
        "X_train, X_test, y_train, y_test = train_test_split(X, y, test_size=0.20, random_state=42)"
      ],
      "execution_count": 9,
      "outputs": []
    },
    {
      "cell_type": "code",
      "metadata": {
        "id": "-_-jc6dIHQ9B"
      },
      "source": [
        "li = tf.keras.Input(shape=(X.shape[1],))\r\n",
        "l1 = tf.keras.layers.Dense(64, activation='relu')(li)\r\n",
        "l2 = tf.keras.layers.Dense(32, activation='relu')(l1)\r\n",
        "lo = tf.keras.layers.Dense(y.shape[1], activation='softmax')(l2)"
      ],
      "execution_count": 10,
      "outputs": []
    },
    {
      "cell_type": "code",
      "metadata": {
        "id": "GJp5jaInJy6f"
      },
      "source": [
        "model = tf.keras.Model(inputs=li, outputs=lo)\r\n",
        "model.compile(loss='categorical_crossentropy', optimizer='adam', metrics=['acc'])"
      ],
      "execution_count": 11,
      "outputs": []
    },
    {
      "cell_type": "code",
      "metadata": {
        "colab": {
          "base_uri": "https://localhost:8080/"
        },
        "id": "wLa0sXzwKMmw",
        "outputId": "5ff1b4c4-3b0e-4f0c-b2e1-3dc0a05b7143"
      },
      "source": [
        "model.summary()"
      ],
      "execution_count": 12,
      "outputs": [
        {
          "output_type": "stream",
          "text": [
            "Model: \"model\"\n",
            "_________________________________________________________________\n",
            "Layer (type)                 Output Shape              Param #   \n",
            "=================================================================\n",
            "input_1 (InputLayer)         [(None, 21)]              0         \n",
            "_________________________________________________________________\n",
            "dense (Dense)                (None, 64)                1408      \n",
            "_________________________________________________________________\n",
            "dense_1 (Dense)              (None, 32)                2080      \n",
            "_________________________________________________________________\n",
            "dense_2 (Dense)              (None, 4)                 132       \n",
            "=================================================================\n",
            "Total params: 3,620\n",
            "Trainable params: 3,620\n",
            "Non-trainable params: 0\n",
            "_________________________________________________________________\n"
          ],
          "name": "stdout"
        }
      ]
    },
    {
      "cell_type": "code",
      "metadata": {
        "colab": {
          "base_uri": "https://localhost:8080/"
        },
        "id": "8ucBJ-6HKUoR",
        "outputId": "8c8d99ae-50c9-4938-ecdb-d1716937f870"
      },
      "source": [
        "history = model.fit(X_train, y_train, batch_size=8, epochs=40, verbose=1, validation_split=0.3)"
      ],
      "execution_count": 13,
      "outputs": [
        {
          "output_type": "stream",
          "text": [
            "Epoch 1/40\n",
            "121/121 [==============================] - 1s 6ms/step - loss: 0.8990 - acc: 0.6845 - val_loss: 0.6129 - val_acc: 0.6867\n",
            "Epoch 2/40\n",
            "121/121 [==============================] - 0s 3ms/step - loss: 0.4357 - acc: 0.8031 - val_loss: 0.4200 - val_acc: 0.8265\n",
            "Epoch 3/40\n",
            "121/121 [==============================] - 0s 3ms/step - loss: 0.2802 - acc: 0.8862 - val_loss: 0.3544 - val_acc: 0.8120\n",
            "Epoch 4/40\n",
            "121/121 [==============================] - 0s 3ms/step - loss: 0.2440 - acc: 0.8955 - val_loss: 0.2723 - val_acc: 0.8723\n",
            "Epoch 5/40\n",
            "121/121 [==============================] - 0s 3ms/step - loss: 0.1680 - acc: 0.9316 - val_loss: 0.2329 - val_acc: 0.9133\n",
            "Epoch 6/40\n",
            "121/121 [==============================] - 0s 3ms/step - loss: 0.1532 - acc: 0.9522 - val_loss: 0.2016 - val_acc: 0.9181\n",
            "Epoch 7/40\n",
            "121/121 [==============================] - 0s 3ms/step - loss: 0.1152 - acc: 0.9771 - val_loss: 0.1878 - val_acc: 0.9277\n",
            "Epoch 8/40\n",
            "121/121 [==============================] - 0s 3ms/step - loss: 0.0924 - acc: 0.9804 - val_loss: 0.1519 - val_acc: 0.9566\n",
            "Epoch 9/40\n",
            "121/121 [==============================] - 0s 3ms/step - loss: 0.0907 - acc: 0.9729 - val_loss: 0.1389 - val_acc: 0.9518\n",
            "Epoch 10/40\n",
            "121/121 [==============================] - 0s 3ms/step - loss: 0.0592 - acc: 0.9927 - val_loss: 0.1283 - val_acc: 0.9494\n",
            "Epoch 11/40\n",
            "121/121 [==============================] - 0s 3ms/step - loss: 0.0528 - acc: 0.9896 - val_loss: 0.1065 - val_acc: 0.9663\n",
            "Epoch 12/40\n",
            "121/121 [==============================] - 0s 3ms/step - loss: 0.0422 - acc: 0.9971 - val_loss: 0.0948 - val_acc: 0.9783\n",
            "Epoch 13/40\n",
            "121/121 [==============================] - 0s 4ms/step - loss: 0.0401 - acc: 0.9930 - val_loss: 0.0951 - val_acc: 0.9759\n",
            "Epoch 14/40\n",
            "121/121 [==============================] - 0s 3ms/step - loss: 0.0366 - acc: 0.9966 - val_loss: 0.0912 - val_acc: 0.9735\n",
            "Epoch 15/40\n",
            "121/121 [==============================] - 0s 3ms/step - loss: 0.0231 - acc: 0.9993 - val_loss: 0.0828 - val_acc: 0.9687\n",
            "Epoch 16/40\n",
            "121/121 [==============================] - 0s 3ms/step - loss: 0.0297 - acc: 0.9955 - val_loss: 0.0845 - val_acc: 0.9566\n",
            "Epoch 17/40\n",
            "121/121 [==============================] - 0s 3ms/step - loss: 0.0269 - acc: 0.9977 - val_loss: 0.0723 - val_acc: 0.9807\n",
            "Epoch 18/40\n",
            "121/121 [==============================] - 0s 3ms/step - loss: 0.0185 - acc: 1.0000 - val_loss: 0.0738 - val_acc: 0.9711\n",
            "Epoch 19/40\n",
            "121/121 [==============================] - 0s 3ms/step - loss: 0.0170 - acc: 1.0000 - val_loss: 0.0689 - val_acc: 0.9783\n",
            "Epoch 20/40\n",
            "121/121 [==============================] - 0s 3ms/step - loss: 0.0141 - acc: 1.0000 - val_loss: 0.0727 - val_acc: 0.9663\n",
            "Epoch 21/40\n",
            "121/121 [==============================] - 0s 3ms/step - loss: 0.0104 - acc: 1.0000 - val_loss: 0.0638 - val_acc: 0.9831\n",
            "Epoch 22/40\n",
            "121/121 [==============================] - 0s 3ms/step - loss: 0.0099 - acc: 1.0000 - val_loss: 0.0616 - val_acc: 0.9735\n",
            "Epoch 23/40\n",
            "121/121 [==============================] - 0s 3ms/step - loss: 0.0072 - acc: 1.0000 - val_loss: 0.0609 - val_acc: 0.9855\n",
            "Epoch 24/40\n",
            "121/121 [==============================] - 0s 3ms/step - loss: 0.0073 - acc: 1.0000 - val_loss: 0.0574 - val_acc: 0.9759\n",
            "Epoch 25/40\n",
            "121/121 [==============================] - 0s 3ms/step - loss: 0.0059 - acc: 1.0000 - val_loss: 0.0584 - val_acc: 0.9855\n",
            "Epoch 26/40\n",
            "121/121 [==============================] - 0s 3ms/step - loss: 0.0051 - acc: 1.0000 - val_loss: 0.0587 - val_acc: 0.9759\n",
            "Epoch 27/40\n",
            "121/121 [==============================] - 0s 3ms/step - loss: 0.0049 - acc: 1.0000 - val_loss: 0.0519 - val_acc: 0.9831\n",
            "Epoch 28/40\n",
            "121/121 [==============================] - 0s 3ms/step - loss: 0.0041 - acc: 1.0000 - val_loss: 0.0534 - val_acc: 0.9807\n",
            "Epoch 29/40\n",
            "121/121 [==============================] - 0s 3ms/step - loss: 0.0035 - acc: 1.0000 - val_loss: 0.0540 - val_acc: 0.9855\n",
            "Epoch 30/40\n",
            "121/121 [==============================] - 0s 3ms/step - loss: 0.0037 - acc: 1.0000 - val_loss: 0.0522 - val_acc: 0.9807\n",
            "Epoch 31/40\n",
            "121/121 [==============================] - 0s 3ms/step - loss: 0.0027 - acc: 1.0000 - val_loss: 0.0503 - val_acc: 0.9855\n",
            "Epoch 32/40\n",
            "121/121 [==============================] - 0s 3ms/step - loss: 0.0022 - acc: 1.0000 - val_loss: 0.0503 - val_acc: 0.9831\n",
            "Epoch 33/40\n",
            "121/121 [==============================] - 0s 3ms/step - loss: 0.0026 - acc: 1.0000 - val_loss: 0.0510 - val_acc: 0.9783\n",
            "Epoch 34/40\n",
            "121/121 [==============================] - 0s 3ms/step - loss: 0.0021 - acc: 1.0000 - val_loss: 0.0493 - val_acc: 0.9831\n",
            "Epoch 35/40\n",
            "121/121 [==============================] - 0s 3ms/step - loss: 0.0021 - acc: 1.0000 - val_loss: 0.0482 - val_acc: 0.9831\n",
            "Epoch 36/40\n",
            "121/121 [==============================] - 0s 3ms/step - loss: 0.0019 - acc: 1.0000 - val_loss: 0.0459 - val_acc: 0.9855\n",
            "Epoch 37/40\n",
            "121/121 [==============================] - 0s 3ms/step - loss: 0.0015 - acc: 1.0000 - val_loss: 0.0463 - val_acc: 0.9807\n",
            "Epoch 38/40\n",
            "121/121 [==============================] - 0s 3ms/step - loss: 0.0014 - acc: 1.0000 - val_loss: 0.0474 - val_acc: 0.9831\n",
            "Epoch 39/40\n",
            "121/121 [==============================] - 0s 3ms/step - loss: 0.0012 - acc: 1.0000 - val_loss: 0.0448 - val_acc: 0.9855\n",
            "Epoch 40/40\n",
            "121/121 [==============================] - 0s 3ms/step - loss: 0.0012 - acc: 1.0000 - val_loss: 0.0456 - val_acc: 0.9831\n"
          ],
          "name": "stdout"
        }
      ]
    },
    {
      "cell_type": "code",
      "metadata": {
        "colab": {
          "base_uri": "https://localhost:8080/"
        },
        "id": "Quyt-QCKKtEx",
        "outputId": "cd6d3910-720c-462f-9d79-e1108829704d"
      },
      "source": [
        "score = model.evaluate(X_test, y_test, verbose=1)\r\n",
        "\r\n",
        "print(\"Test Score:\", score[0])\r\n",
        "print(\"Test Accuracy:\", score[1])"
      ],
      "execution_count": 14,
      "outputs": [
        {
          "output_type": "stream",
          "text": [
            "11/11 [==============================] - 0s 2ms/step - loss: 0.0546 - acc: 0.9769\n",
            "Test Score: 0.05459039658308029\n",
            "Test Accuracy: 0.9768785834312439\n"
          ],
          "name": "stdout"
        }
      ]
    }
  ]
}